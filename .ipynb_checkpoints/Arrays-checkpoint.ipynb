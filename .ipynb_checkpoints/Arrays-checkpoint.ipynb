{
 "cells": [
  {
   "cell_type": "markdown",
   "id": "83e9cc25-4a95-4065-bbcb-9070b6f1a89e",
   "metadata": {},
   "source": [
    "### Remove Duplicates: Write a function to remove duplicates from a list, preserving the original order.\n",
    "\n",
    "Input: [1, 2, 2, 3, 4, 4, 5]\n",
    "\n",
    "Output: [1, 2, 3, 4, 5]"
   ]
  },
  {
   "cell_type": "code",
   "execution_count": 117,
   "id": "77244732-9e9c-4576-88b5-88110b1ca0b4",
   "metadata": {},
   "outputs": [
    {
     "name": "stdout",
     "output_type": "stream",
     "text": [
      "[1, 2, 3, 4, 5]\n",
      "[1, 2, 3, 4, 5]\n"
     ]
    }
   ],
   "source": [
    "def remove_duplicates(input):\n",
    "\n",
    "    dup = []\n",
    "    for i in input:\n",
    "        if i not in dup:\n",
    "            dup.append(i)\n",
    "    print(dup)\n",
    "\n",
    "def remove_duplicates_(input):\n",
    "    print(list(set(Input)))\n",
    "\n",
    "\n",
    "Input = [1, 2, 2, 3, 4, 4, 5]\n",
    "remove_duplicates(Input)\n",
    "remove_duplicates_(Input)"
   ]
  },
  {
   "cell_type": "markdown",
   "id": "fd566ab0-f269-4a6d-bfa9-af82f9ecf0a4",
   "metadata": {},
   "source": [
    "### Rotate List: Write a function to rotate a list by a given number of positions.\n",
    "\n",
    "Input: [1, 2, 3, 4, 5], 2\n",
    "\n",
    "Output: [3, 4, 5, 1, 2]"
   ]
  },
  {
   "cell_type": "code",
   "execution_count": 2,
   "id": "6e7462e6-cb5b-4073-9620-d949e1df2df7",
   "metadata": {},
   "outputs": [
    {
     "name": "stdout",
     "output_type": "stream",
     "text": [
      "[7, 8, 9, 5, 6]\n",
      "[7, 8, 9, 5, 6]\n",
      "\n"
     ]
    }
   ],
   "source": [
    "def rotate_by_number(input, pos):\n",
    "\n",
    "    lst = []\n",
    "    output = []\n",
    "    status = False\n",
    "    for i in input:\n",
    "\n",
    "        if i == pos:\n",
    "            lst.append(i)\n",
    "            status = True\n",
    "        else:\n",
    "            if status == True:\n",
    "                output.append(i)\n",
    "            else:\n",
    "                lst.append(i)\n",
    "\n",
    "    output = output+lst\n",
    "    print(output)\n",
    "\n",
    "def rotate_by_position_(input, pos):\n",
    "    print(input[pos:]+input[:pos])\n",
    "\n",
    "def rotate_by_position__(input, pos):\n",
    "    for _ in range(pos):\n",
    "        input.append(input.pop(0))\n",
    "    print(input)\n",
    "    return input\n",
    "\n",
    "pos = 2\n",
    "input = [5,6,7,8,9]\n",
    "# rotate_by_number(input, pos)\n",
    "rotate_by_position_(input, pos)\n",
    "rotate_by_position__(input, pos)\n",
    "\n",
    "print()"
   ]
  },
  {
   "cell_type": "markdown",
   "id": "407e0abd-fc5e-4989-87ca-88a2fd451ddb",
   "metadata": {},
   "source": [
    "### Merge Sorted Lists: Merge two sorted lists into a new sorted list.\n",
    "\n",
    " * ##### Input: [1, 3, 5], [2, 4, 6]\n",
    " * ##### Output: [1, 2, 3, 4, 5, 6]"
   ]
  },
  {
   "cell_type": "markdown",
   "id": "73b301a1-d505-478a-9d24-6f0dd237a99a",
   "metadata": {},
   "source": [
    "###### complexity of o(n^2)"
   ]
  },
  {
   "cell_type": "code",
   "execution_count": 17,
   "id": "62345593-238d-456d-aa65-d72e3b8eb221",
   "metadata": {},
   "outputs": [
    {
     "name": "stdout",
     "output_type": "stream",
     "text": [
      "[1, 2, 3, 5]\n",
      "[1, 2, 3, 4, 5]\n"
     ]
    }
   ],
   "source": [
    "lst = [1,3,5]\n",
    "lst2 = [2,4,6]\n",
    "\n",
    "for j in lst2:\n",
    "    status = False\n",
    "    for pos,i in enumerate(lst):\n",
    "        if j < i:\n",
    "            lst.insert(pos,j)\n",
    "            print(lst)\n",
    "            status = True\n",
    "            break  \n",
    "            \n",
    "    if status == False:\n",
    "        lst.append(j)\n",
    "    "
   ]
  },
  {
   "cell_type": "markdown",
   "id": "a325a75c-9195-475e-8e2f-41ddfc27c06c",
   "metadata": {},
   "source": [
    "###### complexity of o(n+m)"
   ]
  },
  {
   "cell_type": "code",
   "execution_count": 28,
   "id": "839d1297-2977-4297-b814-56b79b3f11d2",
   "metadata": {},
   "outputs": [
    {
     "name": "stdout",
     "output_type": "stream",
     "text": [
      "[1, 2, 3, 4, 5, 6]\n"
     ]
    }
   ],
   "source": [
    "# Test the function\n",
    "lst1 = [1, 3, 5]\n",
    "lst2 = [2, 4, 6]\n",
    "\n",
    "merged_list = []\n",
    "i, j = 0, 0\n",
    "\n",
    "while i < len(lst1) and j < len(lst2):\n",
    "    \n",
    "    if lst1[i] < lst2[j]:\n",
    "        merged_list.append(lst1[i])\n",
    "        i += 1\n",
    "    else:\n",
    "        merged_list.append(lst2[j])\n",
    "        j += 1\n",
    "\n",
    "# Append the remaining elements in lst1 or lst2\n",
    "while i < len(lst1):\n",
    "    merged_list.append(lst1[i])\n",
    "    i += 1\n",
    "    \n",
    "while j < len(lst2):\n",
    "    merged_list.append(lst2[j])\n",
    "    j += 1\n",
    "    \n",
    "print(merged_list)\n",
    "\n"
   ]
  },
  {
   "cell_type": "code",
   "execution_count": null,
   "id": "f5b46e61-8e67-49c0-bf24-afa68f251c3c",
   "metadata": {},
   "outputs": [],
   "source": []
  },
  {
   "cell_type": "code",
   "execution_count": null,
   "id": "8c456908-2f2c-46a9-9eff-30170f96a8e5",
   "metadata": {},
   "outputs": [],
   "source": []
  },
  {
   "cell_type": "markdown",
   "id": "941bb7cb-677d-44f3-9adc-ba087cbea294",
   "metadata": {},
   "source": [
    "# Find Second-Largest: Write a function to find the second-largest element in a list.\n",
    "\n",
    "Python\n",
    "Input: [1, 2, 3, 4, 5]\n",
    "\n",
    "Output: 4\n",
    "\n",
    "# Split List: Write a function to split a list into two halves.\n",
    "\n",
    "Python\n",
    "Input: [1, 2, 3, 4, 5]\n",
    "\n",
    "Output: [[1, 2], [3, 4, 5]]"
   ]
  },
  {
   "cell_type": "code",
   "execution_count": null,
   "id": "077d7747-3eb9-475e-a7a1-58df8a7d33dd",
   "metadata": {},
   "outputs": [],
   "source": []
  },
  {
   "cell_type": "code",
   "execution_count": null,
   "id": "a9bd5c34-a461-4e59-b85a-7d4403d700d8",
   "metadata": {},
   "outputs": [],
   "source": []
  },
  {
   "cell_type": "code",
   "execution_count": null,
   "id": "d91d3282-d0e7-4b14-8507-76f5cfdeb537",
   "metadata": {},
   "outputs": [],
   "source": []
  },
  {
   "cell_type": "code",
   "execution_count": null,
   "id": "3ee9740a-c53d-4d66-b130-932e2a545692",
   "metadata": {},
   "outputs": [],
   "source": []
  },
  {
   "cell_type": "code",
   "execution_count": null,
   "id": "5204ec8e-0e63-46fe-90fe-27ef5be84ee4",
   "metadata": {},
   "outputs": [],
   "source": []
  },
  {
   "cell_type": "code",
   "execution_count": null,
   "id": "5201234b-b8bc-4992-a92c-1e0207438d94",
   "metadata": {},
   "outputs": [],
   "source": []
  }
 ],
 "metadata": {
  "kernelspec": {
   "display_name": "Python 3 (ipykernel)",
   "language": "python",
   "name": "python3"
  },
  "language_info": {
   "codemirror_mode": {
    "name": "ipython",
    "version": 3
   },
   "file_extension": ".py",
   "mimetype": "text/x-python",
   "name": "python",
   "nbconvert_exporter": "python",
   "pygments_lexer": "ipython3",
   "version": "3.12.3"
  }
 },
 "nbformat": 4,
 "nbformat_minor": 5
}

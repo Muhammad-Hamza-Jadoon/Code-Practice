{
 "cells": [
  {
   "cell_type": "markdown",
   "id": "ca48d502-9670-4b94-b332-42b8df526378",
   "metadata": {},
   "source": [
    "### Test Palindrome"
   ]
  },
  {
   "cell_type": "code",
   "execution_count": 4,
   "id": "aa40cbdc-2d85-43fa-929c-157e911bb048",
   "metadata": {},
   "outputs": [
    {
     "data": {
      "text/plain": [
       "True"
      ]
     },
     "execution_count": 4,
     "metadata": {},
     "output_type": "execute_result"
    }
   ],
   "source": [
    "def is_palindrome(s):\n",
    "    return s == s[::-1]\n",
    "\n",
    "is_palindrome(\"ele\")"
   ]
  },
  {
   "cell_type": "markdown",
   "id": "ed4395f9-5fbf-410b-b66a-3e5f911d4204",
   "metadata": {},
   "source": [
    "### Write a Python function that takes a list of integers and returns the sum of all the even numbers in the list.\r\n",
    "Example: sum_even([1, 2, 3, 4, 5, 6]) should return 12"
   ]
  },
  {
   "cell_type": "code",
   "execution_count": 74,
   "id": "dfe4daa8-f8d4-42cc-b096-8c57ade468dc",
   "metadata": {},
   "outputs": [],
   "source": [
    "lst = [1,3,5,6]\n",
    "sum = 0\n",
    "for i in lst:\n",
    "    if i%2 == 0:\n",
    "        sum = sum + i"
   ]
  },
  {
   "cell_type": "markdown",
   "id": "d0b1b048-37f3-41a7-8d10-603f5043ccff",
   "metadata": {},
   "source": [
    "### Write a Python function that takes a dictionary and returns a new dictionary with all the keys and values swapped.\n",
    "Example: swap_dict({\"a\": 1, \"b\": 2, \"c\": 3}) should return {1: \"a\", 2: \"b\", 3: \"c\"}"
   ]
  },
  {
   "cell_type": "code",
   "execution_count": 87,
   "id": "d04d5218-9803-465e-94b4-ac4475feb8c5",
   "metadata": {},
   "outputs": [
    {
     "name": "stdout",
     "output_type": "stream",
     "text": [
      "a 6\n",
      "b 2\n",
      "c 3\n"
     ]
    }
   ],
   "source": [
    "dic = {\"a\": 6, \"b\": 2, \"c\": 3}\n",
    "dic2 = {}\n",
    "for key, value in dic.items():\n",
    "    print(key, value)\n",
    "    dic2[value] = key"
   ]
  },
  {
   "cell_type": "markdown",
   "id": "8412c37d-ed96-436f-8bf8-265bfb9e8f44",
   "metadata": {},
   "source": [
    "### Write a Python function that takes a string and returns the longest palindromic substring within it.\n",
    "Example: longest_palindrome(\"babad\") should return \"bab\""
   ]
  },
  {
   "cell_type": "code",
   "execution_count": 1,
   "id": "a96eeeb2-fdc6-442b-a7ea-7cfd7ea85a7a",
   "metadata": {},
   "outputs": [
    {
     "name": "stdout",
     "output_type": "stream",
     "text": [
      "adafada\n"
     ]
    }
   ],
   "source": [
    "s = \"xyzabcfefgfefabc\"\n",
    "s = \"wleadafadasfh\"\n",
    "# complexity O(n^3)\n",
    "def larget_palindrome(s):\n",
    "    \n",
    "    palindrome_string = \"\"\n",
    "    for i in range(len(s)):\n",
    "    \n",
    "        cs_ = s[i::]\n",
    "        limit = len(cs_)\n",
    "        # print(cs_,limit,'\\n')\n",
    "        for j in range(len(cs_)):\n",
    "            # print(cs_[:limit:], \"==\", cs_[limit-1::-1])\n",
    "            if cs_[:limit:] == cs_[limit-1::-1] and limit>2 and len(cs_[:limit:])>len(palindrome_string):\n",
    "                palindrome_string = cs_[:limit:] \n",
    "            limit = limit-1\n",
    "        # print()\n",
    "    \n",
    "    return palindrome_string\n",
    "\n",
    "print(larget_palindrome(s))\n"
   ]
  },
  {
   "cell_type": "code",
   "execution_count": null,
   "id": "c91b4b94-840f-4e5b-b544-4f18d1d24490",
   "metadata": {},
   "outputs": [],
   "source": []
  },
  {
   "cell_type": "code",
   "execution_count": null,
   "id": "e1073d26-96f1-4d65-b81c-a176b729c584",
   "metadata": {},
   "outputs": [],
   "source": []
  },
  {
   "cell_type": "code",
   "execution_count": null,
   "id": "71412b04-52a2-42df-b78c-f6805cc63b94",
   "metadata": {},
   "outputs": [],
   "source": []
  },
  {
   "cell_type": "code",
   "execution_count": null,
   "id": "8efa9d36-77cb-4fc1-96c6-c142f5c2df37",
   "metadata": {},
   "outputs": [],
   "source": []
  },
  {
   "cell_type": "code",
   "execution_count": null,
   "id": "548955cb-142d-45d2-9c7a-33334f8740b6",
   "metadata": {},
   "outputs": [],
   "source": []
  }
 ],
 "metadata": {
  "kernelspec": {
   "display_name": "Python 3 (ipykernel)",
   "language": "python",
   "name": "python3"
  },
  "language_info": {
   "codemirror_mode": {
    "name": "ipython",
    "version": 3
   },
   "file_extension": ".py",
   "mimetype": "text/x-python",
   "name": "python",
   "nbconvert_exporter": "python",
   "pygments_lexer": "ipython3",
   "version": "3.12.3"
  }
 },
 "nbformat": 4,
 "nbformat_minor": 5
}

{
 "cells": [
  {
   "cell_type": "code",
   "execution_count": 25,
   "id": "ef3b769e-9539-4a54-beec-357f4907c16c",
   "metadata": {},
   "outputs": [],
   "source": [
    "class Node:\n",
    "    def __init__(self, data=None):\n",
    "        self.data = data\n",
    "        self.next = None\n",
    "        \n",
    "class LinkedList:\n",
    "    def __init__(self):\n",
    "        self.head = None\n",
    "\n",
    "    def insertAtBeginning(self, data):\n",
    "        new_node = Node(data)\n",
    "        new_node.next = self.head\n",
    "        self.head = new_node\n",
    "\n",
    "    def print_list(self):\n",
    "        current = self.head\n",
    "        while current:\n",
    "            print(current.data, end = ' -> ')\n",
    "            current = current.next\n",
    "            \n",
    "        \n",
    " "
   ]
  },
  {
   "cell_type": "code",
   "execution_count": 23,
   "id": "02c1da16-7e5b-4682-8150-7c51125a2244",
   "metadata": {},
   "outputs": [],
   "source": [
    "my_list = LinkedList()   \n"
   ]
  },
  {
   "cell_type": "code",
   "execution_count": 28,
   "id": "5ffb5792-c810-4464-9332-3ffd27627fa1",
   "metadata": {},
   "outputs": [
    {
     "name": "stdout",
     "output_type": "stream",
     "text": [
      "2 -> 1 -> 1 -> 1 -> "
     ]
    }
   ],
   "source": [
    "my_list.insertAtBeginning('2')\n",
    "my_list.print_list()"
   ]
  },
  {
   "cell_type": "code",
   "execution_count": null,
   "id": "2dac36ca-362c-49af-b304-292596b2d3e7",
   "metadata": {},
   "outputs": [],
   "source": []
  },
  {
   "cell_type": "code",
   "execution_count": null,
   "id": "f2cf6456-0272-4396-ae1d-6c4598158e34",
   "metadata": {},
   "outputs": [],
   "source": []
  }
 ],
 "metadata": {
  "kernelspec": {
   "display_name": "Python 3 (ipykernel)",
   "language": "python",
   "name": "python3"
  },
  "language_info": {
   "codemirror_mode": {
    "name": "ipython",
    "version": 3
   },
   "file_extension": ".py",
   "mimetype": "text/x-python",
   "name": "python",
   "nbconvert_exporter": "python",
   "pygments_lexer": "ipython3",
   "version": "3.12.3"
  }
 },
 "nbformat": 4,
 "nbformat_minor": 5
}
